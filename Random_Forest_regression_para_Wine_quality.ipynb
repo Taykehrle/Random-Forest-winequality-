{
  "nbformat": 4,
  "nbformat_minor": 0,
  "metadata": {
    "colab": {
      "name": "Random Forest regression para Wine quality.ipynb",
      "provenance": [],
      "authorship_tag": "ABX9TyO6phtssn4v+gd9NKfERV4E",
      "include_colab_link": true
    },
    "kernelspec": {
      "name": "python3",
      "display_name": "Python 3"
    },
    "language_info": {
      "name": "python"
    }
  },
  "cells": [
    {
      "cell_type": "markdown",
      "metadata": {
        "id": "view-in-github",
        "colab_type": "text"
      },
      "source": [
        "<a href=\"https://colab.research.google.com/github/Taykehrle/Random-Forest-winequality-/blob/main/Random_Forest_regression_para_Wine_quality.ipynb\" target=\"_parent\"><img src=\"https://colab.research.google.com/assets/colab-badge.svg\" alt=\"Open In Colab\"/></a>"
      ]
    },
    {
      "cell_type": "markdown",
      "metadata": {
        "id": "XKIC7kqR3K2j"
      },
      "source": [
        "# **Random Forest**"
      ]
    },
    {
      "cell_type": "markdown",
      "metadata": {
        "id": "6Bah3UJy5d5J"
      },
      "source": [
        "**É um ensemble de árvores de decisão**"
      ]
    },
    {
      "cell_type": "markdown",
      "metadata": {
        "id": "GPLqQ69O5klo"
      },
      "source": [
        "Combinação de diversos algoritmos com o objetivo de obter melhores resultados"
      ]
    },
    {
      "cell_type": "markdown",
      "metadata": {
        "id": "vltBXM0q7Mlo"
      },
      "source": [
        "- Classificação> Votação -> classe + popular/frequente -> escolhida\n",
        "- Regressão> Média das regressões de todas as árvores"
      ]
    },
    {
      "cell_type": "markdown",
      "metadata": {
        "id": "avIfKk347ej7"
      },
      "source": [
        "**Vantagem da Random Forest**: Uma das dificuldades que o cientista de dados tem na análise de variáveis, é quando temos muitas variáveis(redução de dimensionalidade) ou featuring engineering. Um dos problemas nos contextos de redução de dimensionalidade consiste em: Como fazer para selecionar as melhores variáveis.\n",
        "\n",
        "*A Random Forest, pode ser utilizada para fazer a seleção de variáveis.*\n",
        "*Criar um sistema decisional em Machine Learning.\n",
        "\n",
        "Também pode ser usado em relação aos missing values.\n",
        "Outra observação é que \"dizem\" que ela é mais resistente ao overfitting.\n",
        "\n",
        "**Desvantagens da Random Forest:** \n",
        "\n",
        "-Lento\n",
        "\n",
        "-Difícil interpretação\n"
      ]
    },
    {
      "cell_type": "code",
      "metadata": {
        "colab": {
          "base_uri": "https://localhost:8080/"
        },
        "id": "oZ0tFtl0_LTM",
        "outputId": "754fff82-ca48-4ca6-b937-b95f1e0dd345"
      },
      "source": [
        "# Importando as bibliotecas que serão utilizadas\n",
        "import pandas as pd\n",
        "import numpy as np\n",
        "from sklearn.preprocessing import LabelEncoder\n",
        "from sklearn.metrics import roc_curve,auc\n",
        "from sklearn.metrics import confusion_matrix\n",
        "from sklearn.model_selection import train_test_split\n",
        "import statsmodels.api as sm\n",
        "from sklearn.ensemble import RandomForestRegressor\n",
        "from sklearn.ensemble import RandomForestClassifier\n",
        "import sklearn.metrics as metrics\n",
        "from math import sqrt\n",
        "import matplotlib.pyplot as plt\n",
        "%matplotlib inline"
      ],
      "execution_count": 1,
      "outputs": [
        {
          "output_type": "stream",
          "text": [
            "/usr/local/lib/python3.7/dist-packages/statsmodels/tools/_testing.py:19: FutureWarning: pandas.util.testing is deprecated. Use the functions in the public API at pandas.testing instead.\n",
            "  import pandas.util.testing as tm\n"
          ],
          "name": "stderr"
        }
      ]
    },
    {
      "cell_type": "code",
      "metadata": {
        "colab": {
          "base_uri": "https://localhost:8080/"
        },
        "id": "IErdFuLW28I0",
        "outputId": "b697c7e9-b42a-4c1d-8b44-5a3665cb85bf"
      },
      "source": [
        "# Carregando a base de dados e fazendo os checks iniciais\n",
        "\n",
        "wine = pd.read_csv(\"/content/winequality-red.csv\", sep=\";\")\n",
        "wine.shape"
      ],
      "execution_count": 2,
      "outputs": [
        {
          "output_type": "execute_result",
          "data": {
            "text/plain": [
              "(1599, 12)"
            ]
          },
          "metadata": {
            "tags": []
          },
          "execution_count": 2
        }
      ]
    },
    {
      "cell_type": "code",
      "metadata": {
        "colab": {
          "base_uri": "https://localhost:8080/"
        },
        "id": "KcIqEte4BuPn",
        "outputId": "d93d0a09-d141-473b-b00c-4662224d2da1"
      },
      "source": [
        "base_cc = pd.read_csv(\"/content/cc_approvals.data\", header = None)\n",
        "print(base_cc.shape)"
      ],
      "execution_count": 3,
      "outputs": [
        {
          "output_type": "stream",
          "text": [
            "(690, 16)\n"
          ],
          "name": "stdout"
        }
      ]
    },
    {
      "cell_type": "markdown",
      "metadata": {
        "id": "aWEfELjSCDRr"
      },
      "source": [
        "### **Wine - Tratamento da base**"
      ]
    },
    {
      "cell_type": "code",
      "metadata": {
        "id": "HPF61c0PCOFA"
      },
      "source": [
        "# Eliminando as correlações e reescrevendo a base\n",
        "\n",
        "correl_total = wine.corr().abs()\n",
        "\n",
        "superior = correl_total.where(np.triu(np.ones(correl_total.shape),k = 1).astype(np.bool))\n",
        "var_remove = [variaveis for variaveis in superior.columns if any(superior[variaveis] > 0.5)]\n",
        "\n",
        "wine = wine.drop(wine[var_remove], axis=1)\n",
        "\n",
        "#Separando os dados com as variaveis em x e o alvo em y\n",
        "x_wine = wine.drop(\"quality\",axis = 1)\n",
        "y_wine = wine[\"quality\"]\n",
        "\n",
        "x_train_wine,x_test_wine,y_train_wine, y_test_wine = train_test_split(x_wine, y_wine, test_size = 0.50,random_state=42)"
      ],
      "execution_count": 4,
      "outputs": []
    },
    {
      "cell_type": "markdown",
      "metadata": {
        "id": "ZvNtNUdEHVaZ"
      },
      "source": [
        "### **RF para a tarefa de regressão - base Wine**"
      ]
    },
    {
      "cell_type": "code",
      "metadata": {
        "colab": {
          "base_uri": "https://localhost:8080/"
        },
        "id": "gRnWFxklHchV",
        "outputId": "9976866e-0298-4953-ea5d-7cfb89db66e4"
      },
      "source": [
        "# Treinamento do modelo\n",
        "\n",
        "rf_wine = RandomForestRegressor(bootstrap=True,\n",
        "                                criterion = 'mse',max_depth = 3\n",
        "                                , max_features='auto',\n",
        "                                min_samples_leaf = 1, min_samples_split = 2,\n",
        "                                n_estimators = 100, n_jobs = 5,oob_score = True)\n",
        "rf_wine.fit(x_train_wine,y_train_wine)"
      ],
      "execution_count": 18,
      "outputs": [
        {
          "output_type": "execute_result",
          "data": {
            "text/plain": [
              "RandomForestRegressor(bootstrap=True, ccp_alpha=0.0, criterion='mse',\n",
              "                      max_depth=3, max_features='auto', max_leaf_nodes=None,\n",
              "                      max_samples=None, min_impurity_decrease=0.0,\n",
              "                      min_impurity_split=None, min_samples_leaf=1,\n",
              "                      min_samples_split=2, min_weight_fraction_leaf=0.0,\n",
              "                      n_estimators=100, n_jobs=5, oob_score=True,\n",
              "                      random_state=None, verbose=0, warm_start=False)"
            ]
          },
          "metadata": {
            "tags": []
          },
          "execution_count": 18
        }
      ]
    },
    {
      "cell_type": "code",
      "metadata": {
        "id": "j7H1vUlRH9Np"
      },
      "source": [
        "# PRediçoes para o treinamento e teste\n",
        "\n",
        "y_pred_train_wine = rf_wine.predict(x_train_wine)\n",
        "y_pred_test_wine = rf_wine.predict(x_test_wine)\n"
      ],
      "execution_count": 19,
      "outputs": []
    },
    {
      "cell_type": "code",
      "metadata": {
        "colab": {
          "base_uri": "https://localhost:8080/"
        },
        "id": "45NcnXd0IMAC",
        "outputId": "973705f6-03d7-44c8-a3a7-1f184cfe3014"
      },
      "source": [
        "# Avaliação dos resultados\n",
        "\n",
        "MAE_train_wine = metrics.mean_absolute_error(y_train_wine, y_pred_train_wine)\n",
        "R2_train_wine = metrics.r2_score(y_train_wine,y_pred_train_wine)\n",
        "RMSE_train_wine = sqrt(metrics.mean_squared_error(y_train_wine,y_pred_train_wine))\n",
        "\n",
        "print(\"-\"*20)\n",
        "print(\"Avaliação de treinamento\")\n",
        "print(\"-\"*20)\n",
        "print(\"MAE: \",round(MAE_train_wine,2))\n",
        "print(\"R2: \",round(R2_train_wine,2))\n",
        "print(\"RMSE: \",round(RMSE_train_wine,2))\n",
        "\n",
        "\n",
        "MAE_test_wine = metrics.mean_absolute_error(y_test_wine, y_pred_test_wine)\n",
        "R2_test_wine = metrics.r2_score(y_test_wine,y_pred_test_wine)\n",
        "RMSE_test_wine = sqrt(metrics.mean_squared_error(y_test_wine,y_pred_test_wine))\n",
        "\n",
        "print(\"-\"*20)\n",
        "print(\"Avaliação de teste\")\n",
        "print(\"-\"*20)\n",
        "print(\"MAE: \",round(MAE_test_wine,2))\n",
        "print(\"R2: \",round(R2_test_wine,2))\n",
        "print(\"RMSE: \",round(RMSE_test_wine,2))"
      ],
      "execution_count": 20,
      "outputs": [
        {
          "output_type": "stream",
          "text": [
            "--------------------\n",
            "Avaliação de treinamento\n",
            "--------------------\n",
            "MAE:  0.47\n",
            "R2:  0.43\n",
            "RMSE:  0.6\n",
            "--------------------\n",
            "Avaliação de teste\n",
            "--------------------\n",
            "MAE:  0.53\n",
            "R2:  0.34\n",
            "RMSE:  0.66\n"
          ],
          "name": "stdout"
        }
      ]
    },
    {
      "cell_type": "code",
      "metadata": {
        "colab": {
          "base_uri": "https://localhost:8080/"
        },
        "id": "PE-b3EnZKP-v",
        "outputId": "399c2453-1c6a-4621-ea88-62308bf1cae7"
      },
      "source": [
        "# Olhando apenas para a base de teste\n",
        "\n",
        "\n",
        "print(\"-\"*20)\n",
        "print(\"A qualidade média de vinho da base é:\")\n",
        "print(\"-\"*20)\n",
        "print(round(y_test_wine.mean(),2))\n",
        "print(\"-\"*20)\n",
        "print(\"O percentual do MAE em relação à média da base:\")\n",
        "print(round(metrics.mean_absolute_error(y_test_wine,y_pred_test_wine)/y_pred_test_wine.mean()*100,2))\n"
      ],
      "execution_count": 21,
      "outputs": [
        {
          "output_type": "stream",
          "text": [
            "--------------------\n",
            "A qualidade média de vinho da base é:\n",
            "--------------------\n",
            "5.63\n",
            "--------------------\n",
            "O percentual do MAE em relação à média da base:\n",
            "9.41\n"
          ],
          "name": "stdout"
        }
      ]
    },
    {
      "cell_type": "markdown",
      "metadata": {
        "id": "-808AOo5m75w"
      },
      "source": [
        "### **Análise da importância das variáveis**"
      ]
    },
    {
      "cell_type": "code",
      "metadata": {
        "colab": {
          "base_uri": "https://localhost:8080/"
        },
        "id": "leFlkSfFnDU7",
        "outputId": "9826590e-f4c4-4fe2-fd53-c66b5a7d3845"
      },
      "source": [
        "# Analisando a importância das variáveis\n",
        "\n",
        "imp = pd.DataFrame({'Variaveis':x_train_wine.columns,'Importancia':rf_wine.feature_importances_})\n",
        "\n",
        "print(imp.sort_values(by=['Importancia'],ascending = False))"
      ],
      "execution_count": 22,
      "outputs": [
        {
          "output_type": "stream",
          "text": [
            "             Variaveis  Importancia\n",
            "6              alcohol     0.644741\n",
            "5            sulphates     0.165073\n",
            "1     volatile acidity     0.141959\n",
            "0        fixed acidity     0.015938\n",
            "3            chlorides     0.014193\n",
            "4  free sulfur dioxide     0.010971\n",
            "2       residual sugar     0.007125\n"
          ],
          "name": "stdout"
        }
      ]
    },
    {
      "cell_type": "code",
      "metadata": {
        "colab": {
          "base_uri": "https://localhost:8080/",
          "height": 350
        },
        "id": "r7Z4naPmncl3",
        "outputId": "48a382fb-2e18-4770-f59b-b59df4a522b5"
      },
      "source": [
        "# Analisando no gráfico\n",
        "\n",
        "plt.figure(figsize= (12,5))\n",
        "plt.xticks(range(len(imp)),imp['Variaveis'])\n",
        "plt.xlabel('Variaveis')\n",
        "plt.ylabel('Importancia')\n",
        "plt.title('Importancia das variaveis - RF wine')\n",
        "plt.bar(range(len(imp)),imp['Importancia']);"
      ],
      "execution_count": 24,
      "outputs": [
        {
          "output_type": "display_data",
          "data": {
            "image/png": "[encoded data removed]",
            "text/plain": [
              "<Figure size 864x360 with 1 Axes>"
            ]
          },
          "metadata": {
            "tags": [],
            "needs_background": "light"
          }
        }
      ]
    },
    {
      "cell_type": "code",
      "metadata": {
        "id": "mDI76yQooxdP"
      },
      "source": [
        "# Retreinando o modelo apenas com as variáveis mais importantes\n",
        "\n",
        "sub_wine = wine.loc[:,['alcohol','sulphates','volatile acidity','quality']]\n",
        "\n",
        "# Separando os dados com as variáveis em x e o alvo em y\n",
        "x_wine = sub_wine.drop('quality',axis = 1)\n",
        "y_wine = sub_wine['quality']\n",
        "\n",
        "x_train_wine, x_test_wine,y_train_wine,y_test_wine = train_test_split(x_wine,y_wine,test_size=0.50)"
      ],
      "execution_count": 26,
      "outputs": []
    },
    {
      "cell_type": "code",
      "metadata": {
        "id": "UOsI-fuNp3cp"
      },
      "source": [
        "# Treinando o modelo2\n",
        "rf_wine2 = RandomForestRegressor(bootstrap=True,\n",
        "                                 criterion= 'mse',max_depth=3, max_features='auto',\n",
        "                                 min_samples_leaf=1,min_samples_split=2,\n",
        "                                 n_estimators=1000,n_jobs=5,oob_score=True)\n",
        "rf_wine2.fit(x_train_wine,y_train_wine)\n",
        "\n",
        "#Predições para o treinamento e teste\n",
        "\n",
        "y_pred_train_wine = rf_wine2.predict(x_train_wine)\n",
        "y_pred_test_wine = rf_wine2.predict(x_test_wine)\n",
        "\n",
        "# Avaliação dos resultados\n",
        "MAE_train_wine = metrics.mean_absolute_error(y_train_wine,y_pred_train_wine)\n",
        "R2_train_wine = metrics.r2_score(y_train_wine,y_pred_train_wine)\n",
        "RMSE_train_wine = sqrt(metrics.mean_squared_error(y_train_wine,y_pred_train_wine))"
      ],
      "execution_count": 28,
      "outputs": []
    },
    {
      "cell_type": "code",
      "metadata": {
        "colab": {
          "base_uri": "https://localhost:8080/"
        },
        "id": "nLlU7ONarXsC",
        "outputId": "a2638a60-22f8-439f-b12c-07163cd3d837"
      },
      "source": [
        "# Olhando apenas para a base de teste\n",
        "\n",
        "\n",
        "print(\"-\"*20)\n",
        "print(\"A qualidade média de vinho da base é:\")\n",
        "print(\"-\"*20)\n",
        "print(round(y_test_wine.mean(),2))\n",
        "print(\"-\"*20)\n",
        "print(\"O percentual do MAE em relação à média da base:\")\n",
        "print(round(metrics.mean_absolute_error(y_test_wine,y_pred_test_wine)/y_pred_test_wine.mean()*100,2))"
      ],
      "execution_count": 29,
      "outputs": [
        {
          "output_type": "stream",
          "text": [
            "--------------------\n",
            "A qualidade média de vinho da base é:\n",
            "--------------------\n",
            "5.61\n",
            "--------------------\n",
            "O percentual do MAE em relação à média da base:\n",
            "9.08\n"
          ],
          "name": "stdout"
        }
      ]
    },
    {
      "cell_type": "code",
      "metadata": {
        "id": "ZteXrEtrrp02"
      },
      "source": [
        "# Temos um modelo melhor - não necessariamente em performance direta, mas menos complexo dado o número menor\n",
        "# de variáveis"
      ],
      "execution_count": null,
      "outputs": []
    }
  ]
}